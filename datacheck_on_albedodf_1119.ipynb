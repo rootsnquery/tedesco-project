{
 "cells": [
  {
   "cell_type": "code",
   "execution_count": 84,
   "id": "21755f67",
   "metadata": {
    "executionInfo": {
     "elapsed": 967,
     "status": "ok",
     "timestamp": 1668280001636,
     "user": {
      "displayName": "Yuezhu Xu",
      "userId": "10398754341973890803"
     },
     "user_tz": 300
    },
    "id": "21755f67"
   },
   "outputs": [],
   "source": [
    "import pandas as pd\n",
    "import numpy as np\n",
    "from tqdm import tqdm\n",
    "import matplotlib.pyplot as plt\n",
    "import seaborn as sns"
   ]
  },
  {
   "cell_type": "code",
   "execution_count": 85,
   "id": "88ef1b52",
   "metadata": {
    "colab": {
     "base_uri": "https://localhost:8080/",
     "height": 338
    },
    "executionInfo": {
     "elapsed": 314,
     "status": "error",
     "timestamp": 1668280001943,
     "user": {
      "displayName": "Yuezhu Xu",
      "userId": "10398754341973890803"
     },
     "user_tz": 300
    },
    "id": "88ef1b52",
    "outputId": "8264a9e7-5774-42fa-ca21-268baf84d5a9"
   },
   "outputs": [
    {
     "data": {
      "text/html": [
       "<div>\n",
       "<style scoped>\n",
       "    .dataframe tbody tr th:only-of-type {\n",
       "        vertical-align: middle;\n",
       "    }\n",
       "\n",
       "    .dataframe tbody tr th {\n",
       "        vertical-align: top;\n",
       "    }\n",
       "\n",
       "    .dataframe thead th {\n",
       "        text-align: right;\n",
       "    }\n",
       "</style>\n",
       "<table border=\"1\" class=\"dataframe\">\n",
       "  <thead>\n",
       "    <tr style=\"text-align: right;\">\n",
       "      <th></th>\n",
       "      <th>LWN</th>\n",
       "      <th>ST2</th>\n",
       "      <th>ME</th>\n",
       "      <th>SWD</th>\n",
       "      <th>RF</th>\n",
       "      <th>SF</th>\n",
       "      <th>SHF</th>\n",
       "      <th>LHF</th>\n",
       "      <th>SP</th>\n",
       "      <th>CD</th>\n",
       "      <th>CM</th>\n",
       "      <th>TT</th>\n",
       "      <th>QQ</th>\n",
       "      <th>UU</th>\n",
       "      <th>VV</th>\n",
       "      <th>albedo</th>\n",
       "      <th>AL2</th>\n",
       "    </tr>\n",
       "  </thead>\n",
       "  <tbody>\n",
       "    <tr>\n",
       "      <th>0</th>\n",
       "      <td>-81.405365</td>\n",
       "      <td>0.793649</td>\n",
       "      <td>-0.0</td>\n",
       "      <td>319.877533</td>\n",
       "      <td>0.000029</td>\n",
       "      <td>0.000000</td>\n",
       "      <td>0.570751</td>\n",
       "      <td>-8.194850</td>\n",
       "      <td>1005.475525</td>\n",
       "      <td>0.000892</td>\n",
       "      <td>0.032646</td>\n",
       "      <td>0.884998</td>\n",
       "      <td>3.683686</td>\n",
       "      <td>-4.307622</td>\n",
       "      <td>-2.732014</td>\n",
       "      <td>42.0</td>\n",
       "      <td>0.106066</td>\n",
       "    </tr>\n",
       "    <tr>\n",
       "      <th>1</th>\n",
       "      <td>-22.277954</td>\n",
       "      <td>-0.948223</td>\n",
       "      <td>-0.0</td>\n",
       "      <td>224.060745</td>\n",
       "      <td>0.015567</td>\n",
       "      <td>1.760800</td>\n",
       "      <td>-4.124896</td>\n",
       "      <td>-9.705667</td>\n",
       "      <td>1007.914429</td>\n",
       "      <td>0.854793</td>\n",
       "      <td>0.111737</td>\n",
       "      <td>-1.240280</td>\n",
       "      <td>3.285548</td>\n",
       "      <td>-0.943526</td>\n",
       "      <td>-3.329368</td>\n",
       "      <td>47.0</td>\n",
       "      <td>0.106066</td>\n",
       "    </tr>\n",
       "    <tr>\n",
       "      <th>2</th>\n",
       "      <td>-24.148315</td>\n",
       "      <td>-0.974932</td>\n",
       "      <td>-0.0</td>\n",
       "      <td>227.148911</td>\n",
       "      <td>0.005117</td>\n",
       "      <td>1.902325</td>\n",
       "      <td>-3.175040</td>\n",
       "      <td>-10.252491</td>\n",
       "      <td>1007.974976</td>\n",
       "      <td>0.817925</td>\n",
       "      <td>0.144949</td>\n",
       "      <td>-1.171180</td>\n",
       "      <td>3.280511</td>\n",
       "      <td>-1.208542</td>\n",
       "      <td>-3.220073</td>\n",
       "      <td>50.0</td>\n",
       "      <td>0.106066</td>\n",
       "    </tr>\n",
       "    <tr>\n",
       "      <th>3</th>\n",
       "      <td>-59.185715</td>\n",
       "      <td>-15.376113</td>\n",
       "      <td>-0.0</td>\n",
       "      <td>331.896942</td>\n",
       "      <td>0.000000</td>\n",
       "      <td>0.057956</td>\n",
       "      <td>-2.856114</td>\n",
       "      <td>-6.925494</td>\n",
       "      <td>815.419678</td>\n",
       "      <td>0.297331</td>\n",
       "      <td>0.535164</td>\n",
       "      <td>-15.663353</td>\n",
       "      <td>1.055511</td>\n",
       "      <td>0.506285</td>\n",
       "      <td>0.137286</td>\n",
       "      <td>43.0</td>\n",
       "      <td>0.809556</td>\n",
       "    </tr>\n",
       "    <tr>\n",
       "      <th>4</th>\n",
       "      <td>-60.618423</td>\n",
       "      <td>-16.057201</td>\n",
       "      <td>-0.0</td>\n",
       "      <td>342.072052</td>\n",
       "      <td>0.000000</td>\n",
       "      <td>0.001516</td>\n",
       "      <td>-4.391278</td>\n",
       "      <td>-6.915388</td>\n",
       "      <td>827.355469</td>\n",
       "      <td>0.263615</td>\n",
       "      <td>0.513364</td>\n",
       "      <td>-14.785006</td>\n",
       "      <td>1.072736</td>\n",
       "      <td>0.160142</td>\n",
       "      <td>-0.550664</td>\n",
       "      <td>46.0</td>\n",
       "      <td>0.812020</td>\n",
       "    </tr>\n",
       "    <tr>\n",
       "      <th>...</th>\n",
       "      <td>...</td>\n",
       "      <td>...</td>\n",
       "      <td>...</td>\n",
       "      <td>...</td>\n",
       "      <td>...</td>\n",
       "      <td>...</td>\n",
       "      <td>...</td>\n",
       "      <td>...</td>\n",
       "      <td>...</td>\n",
       "      <td>...</td>\n",
       "      <td>...</td>\n",
       "      <td>...</td>\n",
       "      <td>...</td>\n",
       "      <td>...</td>\n",
       "      <td>...</td>\n",
       "      <td>...</td>\n",
       "      <td>...</td>\n",
       "    </tr>\n",
       "    <tr>\n",
       "      <th>1356341</th>\n",
       "      <td>-38.480347</td>\n",
       "      <td>-2.801048</td>\n",
       "      <td>-0.0</td>\n",
       "      <td>40.567474</td>\n",
       "      <td>0.001363</td>\n",
       "      <td>0.000062</td>\n",
       "      <td>13.905147</td>\n",
       "      <td>-6.771992</td>\n",
       "      <td>938.586365</td>\n",
       "      <td>0.614252</td>\n",
       "      <td>0.567858</td>\n",
       "      <td>-0.384348</td>\n",
       "      <td>2.570024</td>\n",
       "      <td>5.643209</td>\n",
       "      <td>5.131199</td>\n",
       "      <td>54.0</td>\n",
       "      <td>0.560509</td>\n",
       "    </tr>\n",
       "    <tr>\n",
       "      <th>1356342</th>\n",
       "      <td>-32.618835</td>\n",
       "      <td>-3.483302</td>\n",
       "      <td>-0.0</td>\n",
       "      <td>38.110943</td>\n",
       "      <td>0.013978</td>\n",
       "      <td>0.018440</td>\n",
       "      <td>19.953880</td>\n",
       "      <td>-14.615985</td>\n",
       "      <td>920.901917</td>\n",
       "      <td>0.634678</td>\n",
       "      <td>0.599840</td>\n",
       "      <td>-1.710700</td>\n",
       "      <td>2.599842</td>\n",
       "      <td>4.001080</td>\n",
       "      <td>6.788464</td>\n",
       "      <td>2.0</td>\n",
       "      <td>0.560934</td>\n",
       "    </tr>\n",
       "    <tr>\n",
       "      <th>1356343</th>\n",
       "      <td>-28.679321</td>\n",
       "      <td>-4.452302</td>\n",
       "      <td>-0.0</td>\n",
       "      <td>45.021790</td>\n",
       "      <td>0.000000</td>\n",
       "      <td>0.025142</td>\n",
       "      <td>23.695633</td>\n",
       "      <td>-18.981661</td>\n",
       "      <td>898.482361</td>\n",
       "      <td>0.632983</td>\n",
       "      <td>0.486042</td>\n",
       "      <td>-3.463650</td>\n",
       "      <td>2.656041</td>\n",
       "      <td>6.198557</td>\n",
       "      <td>4.678786</td>\n",
       "      <td>1.0</td>\n",
       "      <td>0.576611</td>\n",
       "    </tr>\n",
       "    <tr>\n",
       "      <th>1356344</th>\n",
       "      <td>-39.175232</td>\n",
       "      <td>-2.122902</td>\n",
       "      <td>-0.0</td>\n",
       "      <td>40.334507</td>\n",
       "      <td>0.001691</td>\n",
       "      <td>0.000048</td>\n",
       "      <td>18.199335</td>\n",
       "      <td>-10.257481</td>\n",
       "      <td>944.069824</td>\n",
       "      <td>0.542440</td>\n",
       "      <td>0.517080</td>\n",
       "      <td>0.494819</td>\n",
       "      <td>2.618201</td>\n",
       "      <td>7.104030</td>\n",
       "      <td>4.543563</td>\n",
       "      <td>44.0</td>\n",
       "      <td>0.560155</td>\n",
       "    </tr>\n",
       "    <tr>\n",
       "      <th>1356345</th>\n",
       "      <td>-35.698700</td>\n",
       "      <td>-3.515528</td>\n",
       "      <td>-0.0</td>\n",
       "      <td>37.147556</td>\n",
       "      <td>0.003162</td>\n",
       "      <td>0.002840</td>\n",
       "      <td>13.052421</td>\n",
       "      <td>-5.194506</td>\n",
       "      <td>921.996582</td>\n",
       "      <td>0.625245</td>\n",
       "      <td>0.566735</td>\n",
       "      <td>-1.516506</td>\n",
       "      <td>2.608325</td>\n",
       "      <td>5.757143</td>\n",
       "      <td>3.472087</td>\n",
       "      <td>50.0</td>\n",
       "      <td>0.560196</td>\n",
       "    </tr>\n",
       "  </tbody>\n",
       "</table>\n",
       "<p>1356346 rows × 17 columns</p>\n",
       "</div>"
      ],
      "text/plain": [
       "               LWN        ST2   ME         SWD        RF        SF        SHF  \\\n",
       "0       -81.405365   0.793649 -0.0  319.877533  0.000029  0.000000   0.570751   \n",
       "1       -22.277954  -0.948223 -0.0  224.060745  0.015567  1.760800  -4.124896   \n",
       "2       -24.148315  -0.974932 -0.0  227.148911  0.005117  1.902325  -3.175040   \n",
       "3       -59.185715 -15.376113 -0.0  331.896942  0.000000  0.057956  -2.856114   \n",
       "4       -60.618423 -16.057201 -0.0  342.072052  0.000000  0.001516  -4.391278   \n",
       "...            ...        ...  ...         ...       ...       ...        ...   \n",
       "1356341 -38.480347  -2.801048 -0.0   40.567474  0.001363  0.000062  13.905147   \n",
       "1356342 -32.618835  -3.483302 -0.0   38.110943  0.013978  0.018440  19.953880   \n",
       "1356343 -28.679321  -4.452302 -0.0   45.021790  0.000000  0.025142  23.695633   \n",
       "1356344 -39.175232  -2.122902 -0.0   40.334507  0.001691  0.000048  18.199335   \n",
       "1356345 -35.698700  -3.515528 -0.0   37.147556  0.003162  0.002840  13.052421   \n",
       "\n",
       "               LHF           SP        CD        CM         TT        QQ  \\\n",
       "0        -8.194850  1005.475525  0.000892  0.032646   0.884998  3.683686   \n",
       "1        -9.705667  1007.914429  0.854793  0.111737  -1.240280  3.285548   \n",
       "2       -10.252491  1007.974976  0.817925  0.144949  -1.171180  3.280511   \n",
       "3        -6.925494   815.419678  0.297331  0.535164 -15.663353  1.055511   \n",
       "4        -6.915388   827.355469  0.263615  0.513364 -14.785006  1.072736   \n",
       "...            ...          ...       ...       ...        ...       ...   \n",
       "1356341  -6.771992   938.586365  0.614252  0.567858  -0.384348  2.570024   \n",
       "1356342 -14.615985   920.901917  0.634678  0.599840  -1.710700  2.599842   \n",
       "1356343 -18.981661   898.482361  0.632983  0.486042  -3.463650  2.656041   \n",
       "1356344 -10.257481   944.069824  0.542440  0.517080   0.494819  2.618201   \n",
       "1356345  -5.194506   921.996582  0.625245  0.566735  -1.516506  2.608325   \n",
       "\n",
       "               UU        VV  albedo       AL2  \n",
       "0       -4.307622 -2.732014    42.0  0.106066  \n",
       "1       -0.943526 -3.329368    47.0  0.106066  \n",
       "2       -1.208542 -3.220073    50.0  0.106066  \n",
       "3        0.506285  0.137286    43.0  0.809556  \n",
       "4        0.160142 -0.550664    46.0  0.812020  \n",
       "...           ...       ...     ...       ...  \n",
       "1356341  5.643209  5.131199    54.0  0.560509  \n",
       "1356342  4.001080  6.788464     2.0  0.560934  \n",
       "1356343  6.198557  4.678786     1.0  0.576611  \n",
       "1356344  7.104030  4.543563    44.0  0.560155  \n",
       "1356345  5.757143  3.472087    50.0  0.560196  \n",
       "\n",
       "[1356346 rows x 17 columns]"
      ]
     },
     "execution_count": 85,
     "metadata": {},
     "output_type": "execute_result"
    }
   ],
   "source": [
    "data = pd.read_csv('albedo_df.csv')\n",
    "data"
   ]
  },
  {
   "cell_type": "markdown",
   "id": "Oq4cn1TgKp0M",
   "metadata": {
    "id": "Oq4cn1TgKp0M"
   },
   "source": [
    "### Explore ST2"
   ]
  },
  {
   "cell_type": "code",
   "execution_count": 86,
   "id": "76028af9",
   "metadata": {
    "id": "76028af9",
    "outputId": "7933e927-2c28-43c0-c169-96efad5a6cf5"
   },
   "outputs": [
    {
     "data": {
      "text/plain": [
       "0    0.0\n",
       "Name: ST2, dtype: float64"
      ]
     },
     "execution_count": 86,
     "metadata": {},
     "output_type": "execute_result"
    }
   ],
   "source": [
    "data['ST2'].mode()\n",
    "# many of st2 equals to 0."
   ]
  },
  {
   "cell_type": "code",
   "execution_count": 70,
   "id": "d1ab0f8f",
   "metadata": {
    "id": "d1ab0f8f"
   },
   "outputs": [],
   "source": [
    "# take out columns where st2=-1.799988\n",
    "data_st2_refined=data_refined[data_refined['ST2']!=0]\n",
    "\n",
    "# keep columns where st2=-1.799988\n",
    "data_st2_mode=data_refined[data_refined['ST2']==0]\n",
    "\n",
    "# we want to compare the distributions of other variables under the two circumstances"
   ]
  },
  {
   "cell_type": "code",
   "execution_count": 87,
   "id": "d4cbed26",
   "metadata": {},
   "outputs": [],
   "source": [
    "data_ST2above0 = data[(data['ST2']>=0)]\n",
    "data_ST2below0 = data[(data['ST2']<0)]"
   ]
  },
  {
   "cell_type": "markdown",
   "id": "injJ6Jf0KvyA",
   "metadata": {
    "id": "injJ6Jf0KvyA"
   },
   "source": [
    "#### Difference in variables"
   ]
  },
  {
   "cell_type": "code",
   "execution_count": 88,
   "id": "717294f2",
   "metadata": {
    "id": "717294f2",
    "outputId": "ee0ada80-a853-4a03-8877-99745402186c"
   },
   "outputs": [
    {
     "data": {
      "image/png": "[encoded data removed]",
      "text/plain": [
       "<Figure size 432x288 with 1 Axes>"
      ]
     },
     "metadata": {
      "needs_background": "light"
     },
     "output_type": "display_data"
    }
   ],
   "source": [
    "sns.histplot(data_ST2above0['LWN'],color = 'black')\n",
    "sns.histplot(data_ST2below0['LWN']);\n",
    "# shift in mode. less bimodal for data with ST2 <= 0"
   ]
  },
  {
   "cell_type": "code",
   "execution_count": 90,
   "id": "24dc3499",
   "metadata": {
    "id": "24dc3499",
    "outputId": "e1283e07-5e4f-4869-bcbb-403cf88c2a23"
   },
   "outputs": [
    {
     "data": {
      "image/png": "[encoded data removed]",
      "text/plain": [
       "<Figure size 432x288 with 1 Axes>"
      ]
     },
     "metadata": {
      "needs_background": "light"
     },
     "output_type": "display_data"
    }
   ],
   "source": [
    "sns.histplot(data_ST2above0['ME'], bins=100,  color = 'black');\n",
    "sns.histplot(data_ST2below0['ME'], bins=100);\n",
    "sns.histplot(data['ME'], bins=100);\n",
    "# many zeros when ST2>=0"
   ]
  },
  {
   "cell_type": "code",
   "execution_count": 92,
   "id": "b30b1a2c",
   "metadata": {},
   "outputs": [
    {
     "name": "stdout",
     "output_type": "stream",
     "text": [
      "               LWN  ST2         ME         SWD         RF        SF  \\\n",
      "277     -64.497620  0.0  27.322073  354.705688   0.000101  0.000000   \n",
      "526     -81.463257  0.0  27.231091  274.381195   0.000340  0.000000   \n",
      "798     -31.810120  0.0  12.984070  305.593781   0.000128  0.000000   \n",
      "800     -53.878784  0.0  15.691995  235.160217   2.425714  0.000000   \n",
      "801     -62.081604  0.0  19.074677  227.396530   1.431262  0.007413   \n",
      "...            ...  ...        ...         ...        ...       ...   \n",
      "1355610 -37.128265  0.0  16.206665   77.581535   1.291459  0.321232   \n",
      "1355614 -42.039825  0.0  19.049835   86.292534   1.508530  0.032676   \n",
      "1355995  -1.400513  0.0   6.908249   56.599606  14.342259  6.495927   \n",
      "1355997 -12.167145  0.0  87.919739   33.299049  25.493618  0.000000   \n",
      "1356105 -36.768097  0.0  38.506409   63.572170   0.191353  0.000677   \n",
      "\n",
      "               SHF        LHF           SP        CD        CM        TT  \\\n",
      "277      63.275345  -9.924376   977.102600  0.002162  0.000292  5.186964   \n",
      "526     -12.430665 -92.430046   974.070740  0.001973  0.226172  6.817533   \n",
      "798      18.224710  -0.244225  1007.799500  0.054446  0.399491  3.830455   \n",
      "800     -52.101078 -30.172342   915.312012  0.404449  0.751561  3.217861   \n",
      "801     -65.629509 -25.864389   925.844238  0.389207  0.773855  4.814782   \n",
      "...            ...        ...          ...       ...       ...       ...   \n",
      "1355610 -17.557623 -13.760190   931.296326  0.786634  0.080572  2.073821   \n",
      "1355614 -10.208852 -20.976746   959.709473  0.728341  0.055490  3.773436   \n",
      "1355995   7.996809  -0.306394   789.068848  1.000000  1.000000  0.603329   \n",
      "1355997  25.312904  -6.706700  1007.250671  0.778775  0.972080  5.311396   \n",
      "1356105  -3.565138 -11.210407   983.725525  0.136210  0.679629  3.507649   \n",
      "\n",
      "               QQ        UU        VV  albedo       AL2  \n",
      "277      3.644197 -2.665608 -2.085205    57.0  0.683395  \n",
      "526      4.483903 -0.787519  0.914309    55.0  0.748198  \n",
      "798      3.760945 -1.137449  1.283658    24.0  0.687237  \n",
      "800      3.825265  3.687398  3.706874    52.0  0.709832  \n",
      "801      3.941345  2.903143  2.781154    41.0  0.712410  \n",
      "...           ...       ...       ...     ...       ...  \n",
      "1355610  4.730754  1.053057 -0.085724    11.0  0.571996  \n",
      "1355614  4.911691  0.371070  0.369800    23.0  0.551454  \n",
      "1355995  4.825119 -5.391925 -1.159171    59.0  0.705520  \n",
      "1355997  5.151762  3.544063 -5.172033    60.0  0.540081  \n",
      "1356105  4.817579  2.758586  3.144960    39.0  0.548455  \n",
      "\n",
      "[50449 rows x 17 columns]\n",
      "Empty DataFrame\n",
      "Columns: [LWN, ST2, ME, SWD, RF, SF, SHF, LHF, SP, CD, CM, TT, QQ, UU, VV, albedo, AL2]\n",
      "Index: []\n"
     ]
    }
   ],
   "source": [
    "print(data_ST2above0[data_ST2above0['ME']!=0])\n",
    "print(data_ST2above0[(data_ST2above0['ME']!=0)&data_ST2above0['ST2']!=0])\n",
    "#ME(Snow/ice meltwater production within the sector 1)are all zeros when ST2>0\n",
    "#Makes more sense if we use trees"
   ]
  },
  {
   "cell_type": "code",
   "execution_count": 93,
   "id": "3538f81e",
   "metadata": {},
   "outputs": [
    {
     "name": "stderr",
     "output_type": "stream",
     "text": [
      "C:\\Anaconda3\\lib\\site-packages\\pandas\\core\\arraylike.py:397: RuntimeWarning: divide by zero encountered in log\n",
      "  result = getattr(ufunc, method)(*inputs, **kwargs)\n"
     ]
    },
    {
     "data": {
      "image/png": "[encoded data removed]",
      "text/plain": [
       "<Figure size 432x288 with 1 Axes>"
      ]
     },
     "metadata": {
      "needs_background": "light"
     },
     "output_type": "display_data"
    }
   ],
   "source": [
    "sns.histplot(np.log(data['ME']), bins=100);"
   ]
  },
  {
   "cell_type": "code",
   "execution_count": 94,
   "id": "46778d79",
   "metadata": {},
   "outputs": [
    {
     "data": {
      "image/png": "[encoded data removed]",
      "text/plain": [
       "<Figure size 432x288 with 1 Axes>"
      ]
     },
     "metadata": {
      "needs_background": "light"
     },
     "output_type": "display_data"
    }
   ],
   "source": [
    "sns.histplot(data_ST2above0['SWD'], bins=100,  color = 'black')\n",
    "sns.histplot(data_ST2below0['SWD'], bins=100);\n",
    "sns.histplot(data['SWD'], bins=100);\n",
    "# slight shift in mode"
   ]
  },
  {
   "cell_type": "code",
   "execution_count": 95,
   "id": "cb9f8d8a",
   "metadata": {
    "id": "cb9f8d8a",
    "outputId": "fc603175-ed3d-451d-8c94-582a14954298"
   },
   "outputs": [
    {
     "data": {
      "image/png": "[encoded data removed]",
      "text/plain": [
       "<Figure size 432x288 with 1 Axes>"
      ]
     },
     "metadata": {
      "needs_background": "light"
     },
     "output_type": "display_data"
    }
   ],
   "source": [
    "sns.histplot(data_ST2above0['RF'], bins=100,  color = 'black')\n",
    "sns.histplot(data_ST2below0['RF'], bins=100);\n",
    "sns.histplot(data['RF'], bins=100);\n",
    "# No difference\n",
    "# Also for CD CM TT UU VV\n",
    "# CD CM highlt skewed. still skewed after log transformation, but transformation helps anyway."
   ]
  },
  {
   "cell_type": "code",
   "execution_count": 96,
   "id": "fd8ac17a",
   "metadata": {},
   "outputs": [
    {
     "name": "stderr",
     "output_type": "stream",
     "text": [
      "C:\\Anaconda3\\lib\\site-packages\\pandas\\core\\arraylike.py:397: RuntimeWarning: divide by zero encountered in log\n",
      "  result = getattr(ufunc, method)(*inputs, **kwargs)\n"
     ]
    },
    {
     "data": {
      "image/png": "[encoded data removed]",
      "text/plain": [
       "<Figure size 432x288 with 1 Axes>"
      ]
     },
     "metadata": {
      "needs_background": "light"
     },
     "output_type": "display_data"
    }
   ],
   "source": [
    "sns.histplot(np.log(data['CM']), bins=100);"
   ]
  },
  {
   "cell_type": "code",
   "execution_count": 97,
   "id": "d96409e3",
   "metadata": {},
   "outputs": [
    {
     "name": "stderr",
     "output_type": "stream",
     "text": [
      "C:\\Anaconda3\\lib\\site-packages\\pandas\\core\\arraylike.py:397: RuntimeWarning: divide by zero encountered in log\n",
      "  result = getattr(ufunc, method)(*inputs, **kwargs)\n"
     ]
    },
    {
     "data": {
      "image/png": "[encoded data removed]",
      "text/plain": [
       "<Figure size 432x288 with 1 Axes>"
      ]
     },
     "metadata": {
      "needs_background": "light"
     },
     "output_type": "display_data"
    }
   ],
   "source": [
    "sns.histplot(np.log(data['RF']),bins=100);"
   ]
  },
  {
   "cell_type": "code",
   "execution_count": 98,
   "id": "5574f206",
   "metadata": {},
   "outputs": [
    {
     "data": {
      "image/png": "[encoded data removed]",
      "text/plain": [
       "<Figure size 432x288 with 1 Axes>"
      ]
     },
     "metadata": {
      "needs_background": "light"
     },
     "output_type": "display_data"
    }
   ],
   "source": [
    "sns.histplot(data_ST2above0['SF'], bins=100,  color = 'black')\n",
    "sns.histplot(data_ST2below0['SF'], bins=100);\n",
    "sns.histplot(data['SF'], bins=100);\n",
    "# More zeros for SFs when ST2>0"
   ]
  },
  {
   "cell_type": "code",
   "execution_count": 99,
   "id": "9abfbf31",
   "metadata": {},
   "outputs": [
    {
     "name": "stderr",
     "output_type": "stream",
     "text": [
      "C:\\Anaconda3\\lib\\site-packages\\pandas\\core\\arraylike.py:397: RuntimeWarning: divide by zero encountered in log\n",
      "  result = getattr(ufunc, method)(*inputs, **kwargs)\n",
      "C:\\Anaconda3\\lib\\site-packages\\pandas\\core\\arraylike.py:397: RuntimeWarning: divide by zero encountered in log\n",
      "  result = getattr(ufunc, method)(*inputs, **kwargs)\n",
      "C:\\Anaconda3\\lib\\site-packages\\pandas\\core\\arraylike.py:397: RuntimeWarning: divide by zero encountered in log\n",
      "  result = getattr(ufunc, method)(*inputs, **kwargs)\n"
     ]
    },
    {
     "data": {
      "image/png": "[encoded data removed]",
      "text/plain": [
       "<Figure size 432x288 with 1 Axes>"
      ]
     },
     "metadata": {
      "needs_background": "light"
     },
     "output_type": "display_data"
    }
   ],
   "source": [
    "sns.histplot(np.log(data_ST2above0['SF']),bins=100);\n",
    "sns.histplot(np.log(data_ST2below0['SF']),bins=100);\n",
    "sns.histplot(np.log(data['SF']),bins=100);"
   ]
  },
  {
   "cell_type": "code",
   "execution_count": 100,
   "id": "bd1db39a",
   "metadata": {},
   "outputs": [
    {
     "data": {
      "image/png": "[encoded data removed]",
      "text/plain": [
       "<Figure size 432x288 with 1 Axes>"
      ]
     },
     "metadata": {
      "needs_background": "light"
     },
     "output_type": "display_data"
    }
   ],
   "source": [
    "sns.histplot(data_ST2above0['SHF'], color = 'black')\n",
    "sns.histplot(data_ST2below0['SHF']);\n",
    "sns.histplot(data['SHF']);\n",
    "# slight shift in mode"
   ]
  },
  {
   "cell_type": "code",
   "execution_count": 103,
   "id": "2097da15",
   "metadata": {},
   "outputs": [
    {
     "data": {
      "image/png": "[encoded data removed]",
      "text/plain": [
       "<Figure size 432x288 with 1 Axes>"
      ]
     },
     "metadata": {
      "needs_background": "light"
     },
     "output_type": "display_data"
    }
   ],
   "source": [
    "sns.histplot(data_ST2above0['LHF'], color = 'black')\n",
    "sns.histplot(data_ST2below0['LHF']);\n",
    "sns.histplot(data['LHF']);\n",
    "# slight shift in mode"
   ]
  },
  {
   "cell_type": "code",
   "execution_count": 104,
   "id": "f60ff778",
   "metadata": {},
   "outputs": [
    {
     "data": {
      "image/png": "[encoded data removed]",
      "text/plain": [
       "<Figure size 432x288 with 1 Axes>"
      ]
     },
     "metadata": {
      "needs_background": "light"
     },
     "output_type": "display_data"
    }
   ],
   "source": [
    "sns.histplot(data_ST2above0['SP'], color = 'black')\n",
    "sns.histplot(data_ST2below0['SP']);\n",
    "sns.histplot(data['SP']);\n",
    "#sns.histplot(data['SP'], color = 'grey');\n",
    "# SP: Surface atmospheric pressure\n",
    "# When ST2 > 0, SP normal distribution. \n",
    "# When ST2 <= 0, the distribution has a mode around 770 and are close to uniform from 800-1000"
   ]
  },
  {
   "cell_type": "code",
   "execution_count": 105,
   "id": "dfdbe325",
   "metadata": {},
   "outputs": [
    {
     "data": {
      "text/plain": [
       "<AxesSubplot:xlabel='QQ', ylabel='Count'>"
      ]
     },
     "execution_count": 105,
     "metadata": {},
     "output_type": "execute_result"
    },
    {
     "data": {
      "image/png": "[encoded data removed]",
      "text/plain": [
       "<Figure size 432x288 with 1 Axes>"
      ]
     },
     "metadata": {
      "needs_background": "light"
     },
     "output_type": "display_data"
    }
   ],
   "source": [
    "sns.histplot(data_ST2above0['QQ'], color = 'black')\n",
    "sns.histplot(data_ST2below0['QQ']);\n",
    "sns.histplot(data['QQ'])\n",
    "# shift in mode"
   ]
  },
  {
   "cell_type": "code",
   "execution_count": 106,
   "id": "19c125aa",
   "metadata": {},
   "outputs": [
    {
     "data": {
      "image/png": "[encoded data removed]",
      "text/plain": [
       "<Figure size 432x288 with 1 Axes>"
      ]
     },
     "metadata": {
      "needs_background": "light"
     },
     "output_type": "display_data"
    }
   ],
   "source": [
    "sns.histplot(data_ST2above0['UU'], color = 'black')\n",
    "sns.histplot(data_ST2below0['UU']);\n",
    "sns.histplot(data['VV']);"
   ]
  },
  {
   "cell_type": "code",
   "execution_count": 107,
   "id": "3ab2d9e5",
   "metadata": {
    "id": "3ab2d9e5",
    "outputId": "b25d239c-89b9-4029-acfb-e324dc7c85fa"
   },
   "outputs": [
    {
     "data": {
      "image/png": "[encoded data removed]",
      "text/plain": [
       "<Figure size 432x288 with 1 Axes>"
      ]
     },
     "metadata": {
      "needs_background": "light"
     },
     "output_type": "display_data"
    }
   ],
   "source": [
    "sns.histplot(data_ST2above0['albedo'], color = 'black')\n",
    "sns.histplot(data_ST2below0['albedo']);\n",
    "sns.histplot(data['albedo']);\n",
    "# slight difference"
   ]
  },
  {
   "cell_type": "code",
   "execution_count": 102,
   "id": "25fac895",
   "metadata": {},
   "outputs": [
    {
     "data": {
      "text/plain": [
       "100.0"
      ]
     },
     "execution_count": 102,
     "metadata": {},
     "output_type": "execute_result"
    }
   ],
   "source": [
    "data_st2_mode['albedo'].max()\n",
    "# has many 51s! from the upper plot"
   ]
  },
  {
   "cell_type": "code",
   "execution_count": null,
   "id": "53b0f5ed",
   "metadata": {
    "id": "53b0f5ed"
   },
   "outputs": [],
   "source": []
  }
 ],
 "metadata": {
  "colab": {
   "collapsed_sections": [],
   "provenance": []
  },
  "kernelspec": {
   "display_name": "Python 3 (ipykernel)",
   "language": "python",
   "name": "python3"
  },
  "language_info": {
   "codemirror_mode": {
    "name": "ipython",
    "version": 3
   },
   "file_extension": ".py",
   "mimetype": "text/x-python",
   "name": "python",
   "nbconvert_exporter": "python",
   "pygments_lexer": "ipython3",
   "version": "3.9.12"
  }
 },
 "nbformat": 4,
 "nbformat_minor": 5
}
