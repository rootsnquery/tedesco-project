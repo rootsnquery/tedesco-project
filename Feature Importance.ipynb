{
 "cells": [
  {
   "cell_type": "code",
   "execution_count": 1,
   "id": "20cabb47",
   "metadata": {},
   "outputs": [],
   "source": [
    "import pickle\n",
    "import pandas as pd\n",
    "import seaborn as sns\n",
    "import warnings\n",
    "warnings.filterwarnings(\"ignore\")"
   ]
  },
  {
   "cell_type": "code",
   "execution_count": 30,
   "id": "4c1c4272",
   "metadata": {
    "scrolled": true
   },
   "outputs": [
    {
     "name": "stdout",
     "output_type": "stream",
     "text": [
      "LogisticRegression(C=0.1, random_state=0)\n"
     ]
    }
   ],
   "source": [
    "fr = open(\"5percent/logistic_model.sav\", \"rb\")\n",
    "logistic = pickle.load(fr)\n",
    "print(logistic)"
   ]
  },
  {
   "cell_type": "code",
   "execution_count": null,
   "id": "98031284",
   "metadata": {},
   "outputs": [],
   "source": [
    "logistic.coef_.shape"
   ]
  },
  {
   "cell_type": "code",
   "execution_count": null,
   "id": "02239d6a",
   "metadata": {
    "scrolled": true
   },
   "outputs": [],
   "source": [
    "logistic.intercept_"
   ]
  },
  {
   "cell_type": "code",
   "execution_count": 31,
   "id": "f1d9bc9d",
   "metadata": {},
   "outputs": [
    {
     "name": "stdout",
     "output_type": "stream",
     "text": [
      "ElasticNet(alpha=0.0, l1_ratio=0.056411579027100256, normalize=False,\n",
      "           random_state=0)\n",
      "[ 0.         -4.13405931 17.86291106 -0.44467307 -0.18438056  0.07420646\n",
      " -3.20116862 -0.98184489]\n",
      "4.875771339435231\n"
     ]
    }
   ],
   "source": [
    "fr = open(\"5percent/elastic_model.sav\", \"rb\")\n",
    "elastic = pickle.load(fr)\n",
    "print(elastic)\n",
    "print(elastic.coef_)\n",
    "print(elastic.intercept_)"
   ]
  },
  {
   "cell_type": "code",
   "execution_count": 32,
   "id": "2ef41063",
   "metadata": {},
   "outputs": [
    {
     "data": {
      "text/html": [
       "<div>\n",
       "<style scoped>\n",
       "    .dataframe tbody tr th:only-of-type {\n",
       "        vertical-align: middle;\n",
       "    }\n",
       "\n",
       "    .dataframe tbody tr th {\n",
       "        vertical-align: top;\n",
       "    }\n",
       "\n",
       "    .dataframe thead th {\n",
       "        text-align: right;\n",
       "    }\n",
       "</style>\n",
       "<table border=\"1\" class=\"dataframe\">\n",
       "  <thead>\n",
       "    <tr style=\"text-align: right;\">\n",
       "      <th></th>\n",
       "      <th>variable</th>\n",
       "      <th>coef</th>\n",
       "    </tr>\n",
       "  </thead>\n",
       "  <tbody>\n",
       "    <tr>\n",
       "      <th>0</th>\n",
       "      <td>constant</td>\n",
       "      <td>4.875771</td>\n",
       "    </tr>\n",
       "    <tr>\n",
       "      <th>1</th>\n",
       "      <td>lwd</td>\n",
       "      <td>-4.134059</td>\n",
       "    </tr>\n",
       "    <tr>\n",
       "      <th>2</th>\n",
       "      <td>lwu</td>\n",
       "      <td>17.862911</td>\n",
       "    </tr>\n",
       "    <tr>\n",
       "      <th>3</th>\n",
       "      <td>me</td>\n",
       "      <td>-0.444673</td>\n",
       "    </tr>\n",
       "    <tr>\n",
       "      <th>4</th>\n",
       "      <td>rf</td>\n",
       "      <td>-0.184381</td>\n",
       "    </tr>\n",
       "    <tr>\n",
       "      <th>5</th>\n",
       "      <td>sf</td>\n",
       "      <td>0.074206</td>\n",
       "    </tr>\n",
       "    <tr>\n",
       "      <th>6</th>\n",
       "      <td>st2</td>\n",
       "      <td>-3.201169</td>\n",
       "    </tr>\n",
       "    <tr>\n",
       "      <th>7</th>\n",
       "      <td>swd</td>\n",
       "      <td>-0.981845</td>\n",
       "    </tr>\n",
       "  </tbody>\n",
       "</table>\n",
       "</div>"
      ],
      "text/plain": [
       "   variable       coef\n",
       "0  constant   4.875771\n",
       "1       lwd  -4.134059\n",
       "2       lwu  17.862911\n",
       "3        me  -0.444673\n",
       "4        rf  -0.184381\n",
       "5        sf   0.074206\n",
       "6       st2  -3.201169\n",
       "7       swd  -0.981845"
      ]
     },
     "execution_count": 32,
     "metadata": {},
     "output_type": "execute_result"
    }
   ],
   "source": [
    "coef = [elastic.intercept_]+list(elastic.coef_[1:])\n",
    "coef_df = pd.DataFrame(columns = ['variable','coef'])\n",
    "coef_df['variable'] = ['constant', 'lwd', 'lwu', 'me', 'rf', 'sf', 'st2', 'swd']\n",
    "coef_df['coef'] = coef\n",
    "coef_df"
   ]
  },
  {
   "cell_type": "code",
   "execution_count": 33,
   "id": "e5d5ac8d",
   "metadata": {
    "scrolled": true
   },
   "outputs": [
    {
     "data": {
      "image/png": "[encoded data removed]",
      "text/plain": [
       "<Figure size 432x288 with 1 Axes>"
      ]
     },
     "metadata": {
      "needs_background": "light"
     },
     "output_type": "display_data"
    }
   ],
   "source": [
    "sns.barplot(\"coef\", y=\"variable\", data=coef_df, color = sns.xkcd_rgb[\"pale red\"]);"
   ]
  },
  {
   "cell_type": "code",
   "execution_count": 26,
   "id": "fb646c0f",
   "metadata": {},
   "outputs": [
    {
     "name": "stdout",
     "output_type": "stream",
     "text": [
      "XGBRegressor(base_score=0.5, booster='gbtree', callbacks=None,\n",
      "             colsample_bylevel=1, colsample_bynode=1, colsample_bytree=1,\n",
      "             early_stopping_rounds=None, enable_categorical=False,\n",
      "             eval_metric=None, gamma=0.18182496720710062, gpu_id=-1,\n",
      "             grow_policy='depthwise', importance_type=None,\n",
      "             interaction_constraints='', learning_rate=0.01, max_bin=256,\n",
      "             max_cat_to_onehot=4, max_delta_step=0, max_depth=2, max_leaves=0,\n",
      "             min_child_weight=1, missing=nan, monotone_constraints='()',\n",
      "             n_estimators=300, n_jobs=0, num_parallel_tree=1, predictor='auto',\n",
      "             random_state=27, reg_alpha=0, reg_lambda=1, ...)\n"
     ]
    }
   ],
   "source": [
    "from xgboost import plot_importance\n",
    "fr = open(\"5percent/xgboost_model.sav\", \"rb\")\n",
    "XGBoost = pickle.load(fr)\n",
    "print(XGBoost)\n"
   ]
  },
  {
   "cell_type": "code",
   "execution_count": 29,
   "id": "3487e400",
   "metadata": {},
   "outputs": [
    {
     "data": {
      "text/plain": [
       "<AxesSubplot:title={'center':'Feature importance'}, xlabel='F score', ylabel='Features'>"
      ]
     },
     "execution_count": 29,
     "metadata": {},
     "output_type": "execute_result"
    },
    {
     "data": {
      "image/png": "[encoded data removed]",
      "text/plain": [
       "<Figure size 432x288 with 1 Axes>"
      ]
     },
     "metadata": {
      "needs_background": "light"
     },
     "output_type": "display_data"
    }
   ],
   "source": [
    "plot_importance(XGBoost)#.set_yticklabels()"
   ]
  },
  {
   "cell_type": "code",
   "execution_count": 34,
   "id": "0c606da3",
   "metadata": {},
   "outputs": [
    {
     "data": {
      "text/plain": [
       "array([0.        , 0.7135608 , 0.27910638, 0.        , 0.00190975,\n",
       "       0.00133972, 0.00116771, 0.00291565], dtype=float32)"
      ]
     },
     "execution_count": 34,
     "metadata": {},
     "output_type": "execute_result"
    }
   ],
   "source": [
    "XGBoost.feature_importances_"
   ]
  },
  {
   "cell_type": "code",
   "execution_count": 41,
   "id": "6297b655",
   "metadata": {},
   "outputs": [
    {
     "data": {
      "text/html": [
       "<div>\n",
       "<style scoped>\n",
       "    .dataframe tbody tr th:only-of-type {\n",
       "        vertical-align: middle;\n",
       "    }\n",
       "\n",
       "    .dataframe tbody tr th {\n",
       "        vertical-align: top;\n",
       "    }\n",
       "\n",
       "    .dataframe thead th {\n",
       "        text-align: right;\n",
       "    }\n",
       "</style>\n",
       "<table border=\"1\" class=\"dataframe\">\n",
       "  <thead>\n",
       "    <tr style=\"text-align: right;\">\n",
       "      <th></th>\n",
       "      <th>variable</th>\n",
       "      <th>importance</th>\n",
       "    </tr>\n",
       "  </thead>\n",
       "  <tbody>\n",
       "    <tr>\n",
       "      <th>0</th>\n",
       "      <td>constant</td>\n",
       "      <td>0.000000</td>\n",
       "    </tr>\n",
       "    <tr>\n",
       "      <th>1</th>\n",
       "      <td>lwd</td>\n",
       "      <td>0.713561</td>\n",
       "    </tr>\n",
       "    <tr>\n",
       "      <th>2</th>\n",
       "      <td>lwu</td>\n",
       "      <td>0.279106</td>\n",
       "    </tr>\n",
       "    <tr>\n",
       "      <th>3</th>\n",
       "      <td>me</td>\n",
       "      <td>0.000000</td>\n",
       "    </tr>\n",
       "    <tr>\n",
       "      <th>4</th>\n",
       "      <td>rf</td>\n",
       "      <td>0.001910</td>\n",
       "    </tr>\n",
       "    <tr>\n",
       "      <th>5</th>\n",
       "      <td>sf</td>\n",
       "      <td>0.001340</td>\n",
       "    </tr>\n",
       "    <tr>\n",
       "      <th>6</th>\n",
       "      <td>st2</td>\n",
       "      <td>0.001168</td>\n",
       "    </tr>\n",
       "    <tr>\n",
       "      <th>7</th>\n",
       "      <td>swd</td>\n",
       "      <td>0.002916</td>\n",
       "    </tr>\n",
       "  </tbody>\n",
       "</table>\n",
       "</div>"
      ],
      "text/plain": [
       "   variable  importance\n",
       "0  constant    0.000000\n",
       "1       lwd    0.713561\n",
       "2       lwu    0.279106\n",
       "3        me    0.000000\n",
       "4        rf    0.001910\n",
       "5        sf    0.001340\n",
       "6       st2    0.001168\n",
       "7       swd    0.002916"
      ]
     },
     "execution_count": 41,
     "metadata": {},
     "output_type": "execute_result"
    }
   ],
   "source": [
    "imp_df = pd.DataFrame(columns = ['variable','importance'])\n",
    "imp_df['variable'] = ['constant', 'lwd', 'lwu', 'me', 'rf', 'sf', 'st2', 'swd']\n",
    "imp_df['importance'] = XGBoost.feature_importances_\n",
    "imp_df"
   ]
  },
  {
   "cell_type": "code",
   "execution_count": 43,
   "id": "b20e5156",
   "metadata": {},
   "outputs": [
    {
     "data": {
      "image/png": "[encoded data removed]",
      "text/plain": [
       "<Figure size 432x288 with 1 Axes>"
      ]
     },
     "metadata": {
      "needs_background": "light"
     },
     "output_type": "display_data"
    }
   ],
   "source": [
    "sns.barplot(\"importance\", y=\"variable\", data=imp_df, color = sns.xkcd_rgb[\"pale red\"]);"
   ]
  },
  {
   "cell_type": "code",
   "execution_count": 19,
   "id": "037481f7",
   "metadata": {},
   "outputs": [
    {
     "data": {
      "text/plain": [
       "{'f1': 4024867.0,\n",
       " 'f2': 1574310.125,\n",
       " 'f4': 10772.0,\n",
       " 'f5': 7556.763671875,\n",
       " 'f6': 6586.51904296875,\n",
       " 'f7': 16445.833984375}"
      ]
     },
     "execution_count": 19,
     "metadata": {},
     "output_type": "execute_result"
    }
   ],
   "source": [
    "XGBoost.get_booster().get_score(importance_type= 'gain')"
   ]
  }
 ],
 "metadata": {
  "kernelspec": {
   "display_name": "Python 3 (ipykernel)",
   "language": "python",
   "name": "python3"
  },
  "language_info": {
   "codemirror_mode": {
    "name": "ipython",
    "version": 3
   },
   "file_extension": ".py",
   "mimetype": "text/x-python",
   "name": "python",
   "nbconvert_exporter": "python",
   "pygments_lexer": "ipython3",
   "version": "3.9.12"
  }
 },
 "nbformat": 4,
 "nbformat_minor": 5
}
