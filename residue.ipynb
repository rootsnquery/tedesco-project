{
 "cells": [
  {
   "cell_type": "code",
   "execution_count": 19,
   "id": "0d16a98c",
   "metadata": {},
   "outputs": [],
   "source": [
    "import numpy as np\n",
    "import pandas as pd\n",
    "import pickle\n",
    "import matplotlib.pyplot as plt\n",
    "from xgboost import plot_importance"
   ]
  },
  {
   "cell_type": "code",
   "execution_count": 25,
   "id": "f3ee40d0",
   "metadata": {},
   "outputs": [],
   "source": [
    "file = open('albedo_df_updated/xgboost/xgboost_model_01.sav', 'rb')\n",
    "model = pickle.load(file)"
   ]
  },
  {
   "cell_type": "code",
   "execution_count": 26,
   "id": "b78d7d9f",
   "metadata": {},
   "outputs": [
    {
     "data": {
      "text/plain": [
       "<AxesSubplot:title={'center':'Feature importance'}, xlabel='F score', ylabel='Features'>"
      ]
     },
     "execution_count": 26,
     "metadata": {},
     "output_type": "execute_result"
    },
    {
     "data": {
      "image/png": "[encoded data removed]",
      "text/plain": [
       "<Figure size 432x288 with 1 Axes>"
      ]
     },
     "metadata": {
      "needs_background": "light"
     },
     "output_type": "display_data"
    }
   ],
   "source": [
    "plot_importance(model)"
   ]
  },
  {
   "cell_type": "code",
   "execution_count": 21,
   "id": "2168ec06",
   "metadata": {},
   "outputs": [
    {
     "data": {
      "text/html": [
       "<div>\n",
       "<style scoped>\n",
       "    .dataframe tbody tr th:only-of-type {\n",
       "        vertical-align: middle;\n",
       "    }\n",
       "\n",
       "    .dataframe tbody tr th {\n",
       "        vertical-align: top;\n",
       "    }\n",
       "\n",
       "    .dataframe thead th {\n",
       "        text-align: right;\n",
       "    }\n",
       "</style>\n",
       "<table border=\"1\" class=\"dataframe\">\n",
       "  <thead>\n",
       "    <tr style=\"text-align: right;\">\n",
       "      <th></th>\n",
       "      <th>LWN</th>\n",
       "      <th>ST2</th>\n",
       "      <th>ME</th>\n",
       "      <th>SWD</th>\n",
       "      <th>RF</th>\n",
       "      <th>SF</th>\n",
       "      <th>SHF</th>\n",
       "      <th>LHF</th>\n",
       "      <th>SP</th>\n",
       "      <th>CD</th>\n",
       "      <th>CM</th>\n",
       "      <th>TT</th>\n",
       "      <th>QQ</th>\n",
       "      <th>UU</th>\n",
       "      <th>VV</th>\n",
       "      <th>AL2</th>\n",
       "    </tr>\n",
       "  </thead>\n",
       "  <tbody>\n",
       "    <tr>\n",
       "      <th>388717</th>\n",
       "      <td>-35.034515</td>\n",
       "      <td>-0.615247</td>\n",
       "      <td>3.022029</td>\n",
       "      <td>249.188965</td>\n",
       "      <td>-1.965567</td>\n",
       "      <td>-3.798409</td>\n",
       "      <td>0.198664</td>\n",
       "      <td>-0.562795</td>\n",
       "      <td>843.915710</td>\n",
       "      <td>-1.123934</td>\n",
       "      <td>-0.355227</td>\n",
       "      <td>-0.072787</td>\n",
       "      <td>4.357193</td>\n",
       "      <td>0.230284</td>\n",
       "      <td>0.614159</td>\n",
       "      <td>0.555864</td>\n",
       "    </tr>\n",
       "    <tr>\n",
       "      <th>838467</th>\n",
       "      <td>-61.819885</td>\n",
       "      <td>-0.022640</td>\n",
       "      <td>3.563520</td>\n",
       "      <td>265.113647</td>\n",
       "      <td>-7.870503</td>\n",
       "      <td>-23.025851</td>\n",
       "      <td>40.803074</td>\n",
       "      <td>-0.184379</td>\n",
       "      <td>913.297546</td>\n",
       "      <td>-6.485837</td>\n",
       "      <td>-2.375416</td>\n",
       "      <td>3.776023</td>\n",
       "      <td>4.554878</td>\n",
       "      <td>-3.316634</td>\n",
       "      <td>-0.537203</td>\n",
       "      <td>0.548720</td>\n",
       "    </tr>\n",
       "    <tr>\n",
       "      <th>929434</th>\n",
       "      <td>-52.584167</td>\n",
       "      <td>-0.487556</td>\n",
       "      <td>2.819810</td>\n",
       "      <td>300.973145</td>\n",
       "      <td>-14.038257</td>\n",
       "      <td>-18.080555</td>\n",
       "      <td>5.007213</td>\n",
       "      <td>-6.688533</td>\n",
       "      <td>926.073425</td>\n",
       "      <td>-8.440422</td>\n",
       "      <td>-1.977735</td>\n",
       "      <td>0.679376</td>\n",
       "      <td>3.505169</td>\n",
       "      <td>-0.873767</td>\n",
       "      <td>0.531149</td>\n",
       "      <td>0.555284</td>\n",
       "    </tr>\n",
       "    <tr>\n",
       "      <th>230709</th>\n",
       "      <td>-59.719086</td>\n",
       "      <td>0.000000</td>\n",
       "      <td>4.229055</td>\n",
       "      <td>257.311676</td>\n",
       "      <td>-8.977564</td>\n",
       "      <td>-23.025851</td>\n",
       "      <td>107.520241</td>\n",
       "      <td>5.367142</td>\n",
       "      <td>901.769592</td>\n",
       "      <td>-7.041286</td>\n",
       "      <td>-23.025851</td>\n",
       "      <td>8.620724</td>\n",
       "      <td>4.774128</td>\n",
       "      <td>-2.275678</td>\n",
       "      <td>-3.305692</td>\n",
       "      <td>0.540162</td>\n",
       "    </tr>\n",
       "    <tr>\n",
       "      <th>1208102</th>\n",
       "      <td>-65.493195</td>\n",
       "      <td>-0.368135</td>\n",
       "      <td>3.434539</td>\n",
       "      <td>283.835541</td>\n",
       "      <td>-16.075648</td>\n",
       "      <td>-23.025851</td>\n",
       "      <td>38.617329</td>\n",
       "      <td>-7.799091</td>\n",
       "      <td>861.724548</td>\n",
       "      <td>-9.169518</td>\n",
       "      <td>-8.987197</td>\n",
       "      <td>4.871990</td>\n",
       "      <td>4.087193</td>\n",
       "      <td>2.115737</td>\n",
       "      <td>-1.585714</td>\n",
       "      <td>0.551153</td>\n",
       "    </tr>\n",
       "    <tr>\n",
       "      <th>...</th>\n",
       "      <td>...</td>\n",
       "      <td>...</td>\n",
       "      <td>...</td>\n",
       "      <td>...</td>\n",
       "      <td>...</td>\n",
       "      <td>...</td>\n",
       "      <td>...</td>\n",
       "      <td>...</td>\n",
       "      <td>...</td>\n",
       "      <td>...</td>\n",
       "      <td>...</td>\n",
       "      <td>...</td>\n",
       "      <td>...</td>\n",
       "      <td>...</td>\n",
       "      <td>...</td>\n",
       "      <td>...</td>\n",
       "    </tr>\n",
       "    <tr>\n",
       "      <th>383438</th>\n",
       "      <td>-51.787659</td>\n",
       "      <td>-0.026559</td>\n",
       "      <td>3.488525</td>\n",
       "      <td>289.934998</td>\n",
       "      <td>-11.224738</td>\n",
       "      <td>-23.025851</td>\n",
       "      <td>42.318047</td>\n",
       "      <td>-17.690645</td>\n",
       "      <td>868.615234</td>\n",
       "      <td>-23.025851</td>\n",
       "      <td>-6.302950</td>\n",
       "      <td>4.717889</td>\n",
       "      <td>3.999253</td>\n",
       "      <td>1.247766</td>\n",
       "      <td>2.535745</td>\n",
       "      <td>0.550710</td>\n",
       "    </tr>\n",
       "    <tr>\n",
       "      <th>1229416</th>\n",
       "      <td>-75.775696</td>\n",
       "      <td>-0.842374</td>\n",
       "      <td>2.882285</td>\n",
       "      <td>229.276230</td>\n",
       "      <td>-8.481408</td>\n",
       "      <td>-15.645800</td>\n",
       "      <td>91.975159</td>\n",
       "      <td>-43.702240</td>\n",
       "      <td>921.668274</td>\n",
       "      <td>-7.516113</td>\n",
       "      <td>-23.025851</td>\n",
       "      <td>1.573868</td>\n",
       "      <td>3.469960</td>\n",
       "      <td>-6.578327</td>\n",
       "      <td>1.253194</td>\n",
       "      <td>0.556242</td>\n",
       "    </tr>\n",
       "    <tr>\n",
       "      <th>220365</th>\n",
       "      <td>-68.494308</td>\n",
       "      <td>-0.265131</td>\n",
       "      <td>3.176590</td>\n",
       "      <td>279.257782</td>\n",
       "      <td>-9.492211</td>\n",
       "      <td>-23.025851</td>\n",
       "      <td>51.408817</td>\n",
       "      <td>-3.412685</td>\n",
       "      <td>921.680481</td>\n",
       "      <td>-5.797442</td>\n",
       "      <td>-6.014692</td>\n",
       "      <td>2.322747</td>\n",
       "      <td>3.984695</td>\n",
       "      <td>-3.599452</td>\n",
       "      <td>-0.124481</td>\n",
       "      <td>0.552739</td>\n",
       "    </tr>\n",
       "    <tr>\n",
       "      <th>79940</th>\n",
       "      <td>-66.234497</td>\n",
       "      <td>-4.806753</td>\n",
       "      <td>-23.025851</td>\n",
       "      <td>166.387985</td>\n",
       "      <td>-16.349473</td>\n",
       "      <td>-8.724020</td>\n",
       "      <td>43.823009</td>\n",
       "      <td>-30.591227</td>\n",
       "      <td>884.539490</td>\n",
       "      <td>-6.961077</td>\n",
       "      <td>-7.255118</td>\n",
       "      <td>-2.905254</td>\n",
       "      <td>2.483598</td>\n",
       "      <td>4.234320</td>\n",
       "      <td>6.067303</td>\n",
       "      <td>0.682560</td>\n",
       "    </tr>\n",
       "    <tr>\n",
       "      <th>157985</th>\n",
       "      <td>-68.277176</td>\n",
       "      <td>-0.227251</td>\n",
       "      <td>3.508417</td>\n",
       "      <td>308.414124</td>\n",
       "      <td>-7.891842</td>\n",
       "      <td>-23.025851</td>\n",
       "      <td>78.646164</td>\n",
       "      <td>-20.526377</td>\n",
       "      <td>928.385742</td>\n",
       "      <td>-4.260495</td>\n",
       "      <td>-5.301160</td>\n",
       "      <td>2.404794</td>\n",
       "      <td>3.813942</td>\n",
       "      <td>-2.874795</td>\n",
       "      <td>4.974168</td>\n",
       "      <td>0.553353</td>\n",
       "    </tr>\n",
       "  </tbody>\n",
       "</table>\n",
       "<p>135635 rows × 16 columns</p>\n",
       "</div>"
      ],
      "text/plain": [
       "               LWN       ST2         ME         SWD         RF         SF  \\\n",
       "388717  -35.034515 -0.615247   3.022029  249.188965  -1.965567  -3.798409   \n",
       "838467  -61.819885 -0.022640   3.563520  265.113647  -7.870503 -23.025851   \n",
       "929434  -52.584167 -0.487556   2.819810  300.973145 -14.038257 -18.080555   \n",
       "230709  -59.719086  0.000000   4.229055  257.311676  -8.977564 -23.025851   \n",
       "1208102 -65.493195 -0.368135   3.434539  283.835541 -16.075648 -23.025851   \n",
       "...            ...       ...        ...         ...        ...        ...   \n",
       "383438  -51.787659 -0.026559   3.488525  289.934998 -11.224738 -23.025851   \n",
       "1229416 -75.775696 -0.842374   2.882285  229.276230  -8.481408 -15.645800   \n",
       "220365  -68.494308 -0.265131   3.176590  279.257782  -9.492211 -23.025851   \n",
       "79940   -66.234497 -4.806753 -23.025851  166.387985 -16.349473  -8.724020   \n",
       "157985  -68.277176 -0.227251   3.508417  308.414124  -7.891842 -23.025851   \n",
       "\n",
       "                SHF        LHF          SP         CD         CM        TT  \\\n",
       "388717     0.198664  -0.562795  843.915710  -1.123934  -0.355227 -0.072787   \n",
       "838467    40.803074  -0.184379  913.297546  -6.485837  -2.375416  3.776023   \n",
       "929434     5.007213  -6.688533  926.073425  -8.440422  -1.977735  0.679376   \n",
       "230709   107.520241   5.367142  901.769592  -7.041286 -23.025851  8.620724   \n",
       "1208102   38.617329  -7.799091  861.724548  -9.169518  -8.987197  4.871990   \n",
       "...             ...        ...         ...        ...        ...       ...   \n",
       "383438    42.318047 -17.690645  868.615234 -23.025851  -6.302950  4.717889   \n",
       "1229416   91.975159 -43.702240  921.668274  -7.516113 -23.025851  1.573868   \n",
       "220365    51.408817  -3.412685  921.680481  -5.797442  -6.014692  2.322747   \n",
       "79940     43.823009 -30.591227  884.539490  -6.961077  -7.255118 -2.905254   \n",
       "157985    78.646164 -20.526377  928.385742  -4.260495  -5.301160  2.404794   \n",
       "\n",
       "               QQ        UU        VV       AL2  \n",
       "388717   4.357193  0.230284  0.614159  0.555864  \n",
       "838467   4.554878 -3.316634 -0.537203  0.548720  \n",
       "929434   3.505169 -0.873767  0.531149  0.555284  \n",
       "230709   4.774128 -2.275678 -3.305692  0.540162  \n",
       "1208102  4.087193  2.115737 -1.585714  0.551153  \n",
       "...           ...       ...       ...       ...  \n",
       "383438   3.999253  1.247766  2.535745  0.550710  \n",
       "1229416  3.469960 -6.578327  1.253194  0.556242  \n",
       "220365   3.984695 -3.599452 -0.124481  0.552739  \n",
       "79940    2.483598  4.234320  6.067303  0.682560  \n",
       "157985   3.813942 -2.874795  4.974168  0.553353  \n",
       "\n",
       "[135635 rows x 16 columns]"
      ]
     },
     "execution_count": 21,
     "metadata": {},
     "output_type": "execute_result"
    }
   ],
   "source": [
    "X"
   ]
  },
  {
   "cell_type": "code",
   "execution_count": 27,
   "id": "a7524653",
   "metadata": {},
   "outputs": [],
   "source": [
    "import datetime\n",
    "import numpy as np\n",
    "from matplotlib import pyplot as plt, dates\n",
    "import seaborn as sns \n",
    "import pandas as pd\n",
    "import pickle\n",
    "from sklearn.preprocessing import StandardScaler, MinMaxScaler\n",
    "from sklearn.model_selection import train_test_split\n",
    "from sklearn.ensemble import RandomForestRegressor\n",
    "from sklearn.metrics import r2_score\n",
    "from sklearn.model_selection import RandomizedSearchCV\n",
    "\n",
    "\n",
    "data = pd.read_csv('albedo_df_updated.csv')\n",
    "#data = data.drop('AL2', axis=1)\n",
    "\n",
    "data = data.sample(frac = 0.1, random_state=42) # for testing\n",
    "\n",
    "\n",
    "y = np.array(data['albedo']) \n",
    "X = data.drop(['albedo'], axis = 1)  \n",
    "X_list = list(X.columns)\n",
    "#X = np.array(X)\n",
    "\n",
    "\n",
    "# log transformation\n",
    "X.loc[X.ME<1e-10,'ME'] = 1e-10\n",
    "X.loc[X.RF<1e-10,'RF'] = 1e-10\n",
    "X.loc[X.SF<1e-10,'SF'] = 1e-10\n",
    "X.loc[X.CD<1e-10,'CD'] = 1e-10\n",
    "X.loc[X.CM<1e-10,'CM'] = 1e-10\n",
    "X.ME = np.log(X.ME)\n",
    "X.RF = np.log(X.RF)\n",
    "X.SF = np.log(X.SF)\n",
    "X.CD = np.log(X.CD)\n",
    "X.CM = np.log(X.CM)\n",
    "\n",
    "X_train, X_test, y_train, y_test= train_test_split(X, y, test_size = 0.2, random_state = 42)\n",
    "y_train_ori,y_test_ori  = y_train, y_test"
   ]
  },
  {
   "cell_type": "code",
   "execution_count": 28,
   "id": "e7c7bd0b",
   "metadata": {},
   "outputs": [],
   "source": [
    "# scaling\n",
    "scaler = StandardScaler()\n",
    "X_train = scaler.fit_transform(X_train)\n",
    "X_test = scaler.transform(X_test)\n",
    "#X_train = np.hstack([np.ones((X_train.shape[0], 1)), X_train])\n",
    "#X_test = np.hstack([np.ones((X_test.shape[0], 1)), X_test])\n",
    "\n",
    "minmax = MinMaxScaler()\n",
    "y_train = pd.Series(minmax.fit_transform(pd.DataFrame(y_train)).reshape(1,-1)[0])\n",
    "y_test = pd.Series(minmax.transform(pd.DataFrame(y_test)).reshape(1,-1)[0])\n"
   ]
  },
  {
   "cell_type": "code",
   "execution_count": 29,
   "id": "f1fea34e",
   "metadata": {},
   "outputs": [
    {
     "name": "stdout",
     "output_type": "stream",
     "text": [
      "-0.4401369688138592\n"
     ]
    }
   ],
   "source": [
    "y_train_pred = model.predict(X_train)\n",
    "r2_train = r2_score(y_train, y_train_pred)\n",
    "print(r2_train)"
   ]
  },
  {
   "cell_type": "code",
   "execution_count": 30,
   "id": "fafe406b",
   "metadata": {},
   "outputs": [
    {
     "name": "stdout",
     "output_type": "stream",
     "text": [
      "-0.4393668638353023\n"
     ]
    }
   ],
   "source": [
    "y_test_pred = model.predict(X_test)\n",
    "r2_test = r2_score(y_test, y_test_pred)\n",
    "print(r2_test)"
   ]
  },
  {
   "cell_type": "code",
   "execution_count": 31,
   "id": "5f18b6f8",
   "metadata": {},
   "outputs": [
    {
     "data": {
      "text/plain": [
       "[<matplotlib.lines.Line2D at 0x16dc4911130>]"
      ]
     },
     "execution_count": 31,
     "metadata": {},
     "output_type": "execute_result"
    },
    {
     "data": {
      "image/png": "[encoded data removed]",
      "text/plain": [
       "<Figure size 432x288 with 1 Axes>"
      ]
     },
     "metadata": {
      "needs_background": "light"
     },
     "output_type": "display_data"
    }
   ],
   "source": [
    "Res = pd.DataFrame(columns = ['Residual','y_true'])\n",
    "Res['Residual'] = y_train_pred-y_train\n",
    "Res['y_true']  = y_train\n",
    "Res_sorted = Res.sort_values(by='y_true')\n",
    "y = Res_sorted['y_true']\n",
    "residual = Res_sorted['Residual']\n",
    "plt.plot(y,residual)"
   ]
  },
  {
   "cell_type": "code",
   "execution_count": 36,
   "id": "50ab2177",
   "metadata": {},
   "outputs": [
    {
     "data": {
      "text/plain": [
       "Text(0.5, 1.0, 'Residual Related to Albedo (Scaled)')"
      ]
     },
     "execution_count": 36,
     "metadata": {},
     "output_type": "execute_result"
    },
    {
     "data": {
      "image/png": "[encoded data removed]",
      "text/plain": [
       "<Figure size 432x288 with 1 Axes>"
      ]
     },
     "metadata": {
      "needs_background": "light"
     },
     "output_type": "display_data"
    }
   ],
   "source": [
    "Res = pd.DataFrame(columns = ['Residual','y_true'])\n",
    "Res['Residual'] = y_test_pred-y_test\n",
    "Res['y_true']  = y_test\n",
    "Res_sorted = Res.sort_values(by='y_true')\n",
    "y = Res_sorted['y_true']\n",
    "residual = Res_sorted['Residual']\n",
    "plt.plot(y,residual);\n",
    "plt.ylabel('Residual');\n",
    "plt.xlabel('Albedo Value');\n",
    "plt.title('Residual Related to Albedo (Scaled)')"
   ]
  },
  {
   "cell_type": "code",
   "execution_count": 181,
   "id": "8849c848",
   "metadata": {},
   "outputs": [
    {
     "data": {
      "text/plain": [
       "0.02576314157716823"
      ]
     },
     "execution_count": 181,
     "metadata": {},
     "output_type": "execute_result"
    }
   ],
   "source": [
    "Zt_1 = np.random.normal(loc=0,scale=4,size=100000)\n",
    "Zt = np.random.normal(loc=0,scale=4,size=100000)\n",
    "Ztp1 = np.random.normal(loc=0,scale=4,size=100000)\n",
    "(Zt*Zt*Zt_1).mean()"
   ]
  },
  {
   "cell_type": "code",
   "execution_count": 146,
   "id": "7303660f",
   "metadata": {},
   "outputs": [
    {
     "data": {
      "text/plain": [
       "15.969737214110868"
      ]
     },
     "execution_count": 146,
     "metadata": {},
     "output_type": "execute_result"
    }
   ],
   "source": []
  },
  {
   "cell_type": "code",
   "execution_count": 126,
   "id": "c0796c0e",
   "metadata": {},
   "outputs": [
    {
     "data": {
      "text/plain": [
       "array([3, 8])"
      ]
     },
     "execution_count": 126,
     "metadata": {},
     "output_type": "execute_result"
    }
   ],
   "source": [
    "x= np.array([1,2])\n",
    "y = np.array([3,4])\n",
    "x*y"
   ]
  },
  {
   "cell_type": "code",
   "execution_count": 119,
   "id": "b77965c2",
   "metadata": {},
   "outputs": [
    {
     "data": {
      "text/plain": [
       "-0.0386105051335619"
      ]
     },
     "execution_count": 119,
     "metadata": {},
     "output_type": "execute_result"
    }
   ],
   "source": [
    "np.multiply(Zt**2,Zt_1, Ztp1).mean()"
   ]
  }
 ],
 "metadata": {
  "kernelspec": {
   "display_name": "Python 3 (ipykernel)",
   "language": "python",
   "name": "python3"
  },
  "language_info": {
   "codemirror_mode": {
    "name": "ipython",
    "version": 3
   },
   "file_extension": ".py",
   "mimetype": "text/x-python",
   "name": "python",
   "nbconvert_exporter": "python",
   "pygments_lexer": "ipython3",
   "version": "3.9.12"
  }
 },
 "nbformat": 4,
 "nbformat_minor": 5
}
