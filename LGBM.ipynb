{
  "nbformat": 4,
  "nbformat_minor": 0,
  "metadata": {
    "colab": {
      "provenance": []
    },
    "kernelspec": {
      "name": "python3",
      "display_name": "Python 3"
    },
    "language_info": {
      "name": "python"
    }
  },
  "cells": [
    {
      "cell_type": "code",
      "execution_count": null,
      "metadata": {
        "colab": {
          "base_uri": "https://localhost:8080/"
        },
        "id": "YeZYdS4kIFr8",
        "outputId": "14685b6f-2f7e-4b36-eaa6-622ca2faf6be"
      },
      "outputs": [
        {
          "output_type": "stream",
          "name": "stdout",
          "text": [
            "Mounted at /content/MyDrive\n"
          ]
        }
      ],
      "source": [
        "from google.colab import drive\n",
        "drive.mount('/content/MyDrive')"
      ]
    },
    {
      "cell_type": "code",
      "source": [
        "import numpy as np\n",
        "import matplotlib.pyplot as plt\n",
        "import seaborn as sns\n",
        "import os\n",
        "import warnings\n",
        "import pandas as pd\n",
        "import time\n",
        "import lightgbm as lgb"
      ],
      "metadata": {
        "id": "EvOebF9bIXCQ"
      },
      "execution_count": null,
      "outputs": []
    },
    {
      "cell_type": "code",
      "source": [
        "from sklearn.model_selection import train_test_split\n",
        "from sklearn.preprocessing import StandardScaler, MinMaxScaler\n",
        "from sklearn.compose import make_column_transformer\n",
        "from sklearn.pipeline import make_pipeline\n",
        "from scipy.stats import uniform\n",
        "from scipy.stats import randint\n",
        "from sklearn.model_selection import RandomizedSearchCV,GridSearchCV"
      ],
      "metadata": {
        "id": "IuSqXfC6IYJG"
      },
      "execution_count": null,
      "outputs": []
    },
    {
      "cell_type": "code",
      "source": [
        "from lightgbm import LGBMRegressor"
      ],
      "metadata": {
        "id": "fTjl03ehIcOy"
      },
      "execution_count": null,
      "outputs": []
    },
    {
      "cell_type": "code",
      "source": [
        "data = pd.read_csv('/content/MyDrive/MyDrive/projects/Albedo/albedo_df_updated.csv')\n",
        "df = data.drop('AL2', axis=1)"
      ],
      "metadata": {
        "id": "oT6jBvhwIMqu"
      },
      "execution_count": null,
      "outputs": []
    },
    {
      "cell_type": "code",
      "source": [
        "# 10% of data\n",
        "\n",
        "df_10p = df.sample(frac=0.1)"
      ],
      "metadata": {
        "id": "0WT1S3ycIspj"
      },
      "execution_count": null,
      "outputs": []
    },
    {
      "cell_type": "code",
      "source": [
        "df.head(5)"
      ],
      "metadata": {
        "colab": {
          "base_uri": "https://localhost:8080/",
          "height": 357
        },
        "id": "o8iooQFlJqoY",
        "outputId": "2a6cc0de-a51f-4ac4-f06e-e2087784f72b"
      },
      "execution_count": null,
      "outputs": [
        {
          "output_type": "execute_result",
          "data": {
            "text/plain": [
              "         LWN       ST2         ME         SWD            RF            SF  \\\n",
              "0 -72.722000 -1.441925  31.091021  321.971558  1.477201e-03  0.000000e+00   \n",
              "1 -75.489471 -1.726056  20.917885  338.063568  6.715262e-05  3.687320e-07   \n",
              "2 -28.299072 -3.013611  -0.000000  152.537247  5.159156e-05  2.155155e+00   \n",
              "3 -33.994049 -1.813703   4.366425  232.480637  6.445825e-07  2.404408e-01   \n",
              "4 -41.142273 -2.935536  -0.000000  238.158371  1.137988e-06  2.512345e-01   \n",
              "\n",
              "         SHF        LHF          SP        CD        CM        TT        QQ  \\\n",
              "0  28.755768 -18.186138  958.125793  0.000217  0.012455  4.917992  3.189087   \n",
              "1  55.636593 -52.156727  988.829651  0.066936  0.091493  0.983965  2.729851   \n",
              "2  -0.950678 -52.996662  957.029785  0.918136  0.742793 -2.290780  2.527486   \n",
              "3  -6.710862 -38.557491  932.894592  0.689475  1.000000 -1.609589  2.116926   \n",
              "4 -24.023888 -24.586668  932.433533  0.681241  1.000000 -1.458742  2.058762   \n",
              "\n",
              "         UU        VV  albedo  \n",
              "0 -1.309971  2.412317    47.0  \n",
              "1  3.445704  0.570313    56.0  \n",
              "2 -4.836516 -5.375922    75.0  \n",
              "3 -0.203870 -2.054283    46.0  \n",
              "4 -1.058693 -1.459658    43.0  "
            ],
            "text/html": [
              "\n",
              "  <div id=\"df-9efd8cb3-5457-475c-8909-ba3c961f5dc6\">\n",
              "    <div class=\"colab-df-container\">\n",
              "      <div>\n",
              "<style scoped>\n",
              "    .dataframe tbody tr th:only-of-type {\n",
              "        vertical-align: middle;\n",
              "    }\n",
              "\n",
              "    .dataframe tbody tr th {\n",
              "        vertical-align: top;\n",
              "    }\n",
              "\n",
              "    .dataframe thead th {\n",
              "        text-align: right;\n",
              "    }\n",
              "</style>\n",
              "<table border=\"1\" class=\"dataframe\">\n",
              "  <thead>\n",
              "    <tr style=\"text-align: right;\">\n",
              "      <th></th>\n",
              "      <th>LWN</th>\n",
              "      <th>ST2</th>\n",
              "      <th>ME</th>\n",
              "      <th>SWD</th>\n",
              "      <th>RF</th>\n",
              "      <th>SF</th>\n",
              "      <th>SHF</th>\n",
              "      <th>LHF</th>\n",
              "      <th>SP</th>\n",
              "      <th>CD</th>\n",
              "      <th>CM</th>\n",
              "      <th>TT</th>\n",
              "      <th>QQ</th>\n",
              "      <th>UU</th>\n",
              "      <th>VV</th>\n",
              "      <th>albedo</th>\n",
              "    </tr>\n",
              "  </thead>\n",
              "  <tbody>\n",
              "    <tr>\n",
              "      <th>0</th>\n",
              "      <td>-72.722000</td>\n",
              "      <td>-1.441925</td>\n",
              "      <td>31.091021</td>\n",
              "      <td>321.971558</td>\n",
              "      <td>1.477201e-03</td>\n",
              "      <td>0.000000e+00</td>\n",
              "      <td>28.755768</td>\n",
              "      <td>-18.186138</td>\n",
              "      <td>958.125793</td>\n",
              "      <td>0.000217</td>\n",
              "      <td>0.012455</td>\n",
              "      <td>4.917992</td>\n",
              "      <td>3.189087</td>\n",
              "      <td>-1.309971</td>\n",
              "      <td>2.412317</td>\n",
              "      <td>47.0</td>\n",
              "    </tr>\n",
              "    <tr>\n",
              "      <th>1</th>\n",
              "      <td>-75.489471</td>\n",
              "      <td>-1.726056</td>\n",
              "      <td>20.917885</td>\n",
              "      <td>338.063568</td>\n",
              "      <td>6.715262e-05</td>\n",
              "      <td>3.687320e-07</td>\n",
              "      <td>55.636593</td>\n",
              "      <td>-52.156727</td>\n",
              "      <td>988.829651</td>\n",
              "      <td>0.066936</td>\n",
              "      <td>0.091493</td>\n",
              "      <td>0.983965</td>\n",
              "      <td>2.729851</td>\n",
              "      <td>3.445704</td>\n",
              "      <td>0.570313</td>\n",
              "      <td>56.0</td>\n",
              "    </tr>\n",
              "    <tr>\n",
              "      <th>2</th>\n",
              "      <td>-28.299072</td>\n",
              "      <td>-3.013611</td>\n",
              "      <td>-0.000000</td>\n",
              "      <td>152.537247</td>\n",
              "      <td>5.159156e-05</td>\n",
              "      <td>2.155155e+00</td>\n",
              "      <td>-0.950678</td>\n",
              "      <td>-52.996662</td>\n",
              "      <td>957.029785</td>\n",
              "      <td>0.918136</td>\n",
              "      <td>0.742793</td>\n",
              "      <td>-2.290780</td>\n",
              "      <td>2.527486</td>\n",
              "      <td>-4.836516</td>\n",
              "      <td>-5.375922</td>\n",
              "      <td>75.0</td>\n",
              "    </tr>\n",
              "    <tr>\n",
              "      <th>3</th>\n",
              "      <td>-33.994049</td>\n",
              "      <td>-1.813703</td>\n",
              "      <td>4.366425</td>\n",
              "      <td>232.480637</td>\n",
              "      <td>6.445825e-07</td>\n",
              "      <td>2.404408e-01</td>\n",
              "      <td>-6.710862</td>\n",
              "      <td>-38.557491</td>\n",
              "      <td>932.894592</td>\n",
              "      <td>0.689475</td>\n",
              "      <td>1.000000</td>\n",
              "      <td>-1.609589</td>\n",
              "      <td>2.116926</td>\n",
              "      <td>-0.203870</td>\n",
              "      <td>-2.054283</td>\n",
              "      <td>46.0</td>\n",
              "    </tr>\n",
              "    <tr>\n",
              "      <th>4</th>\n",
              "      <td>-41.142273</td>\n",
              "      <td>-2.935536</td>\n",
              "      <td>-0.000000</td>\n",
              "      <td>238.158371</td>\n",
              "      <td>1.137988e-06</td>\n",
              "      <td>2.512345e-01</td>\n",
              "      <td>-24.023888</td>\n",
              "      <td>-24.586668</td>\n",
              "      <td>932.433533</td>\n",
              "      <td>0.681241</td>\n",
              "      <td>1.000000</td>\n",
              "      <td>-1.458742</td>\n",
              "      <td>2.058762</td>\n",
              "      <td>-1.058693</td>\n",
              "      <td>-1.459658</td>\n",
              "      <td>43.0</td>\n",
              "    </tr>\n",
              "  </tbody>\n",
              "</table>\n",
              "</div>\n",
              "      <button class=\"colab-df-convert\" onclick=\"convertToInteractive('df-9efd8cb3-5457-475c-8909-ba3c961f5dc6')\"\n",
              "              title=\"Convert this dataframe to an interactive table.\"\n",
              "              style=\"display:none;\">\n",
              "        \n",
              "  <svg xmlns=\"http://www.w3.org/2000/svg\" height=\"24px\"viewBox=\"0 0 24 24\"\n",
              "       width=\"24px\">\n",
              "    <path d=\"M0 0h24v24H0V0z\" fill=\"none\"/>\n",
              "    <path d=\"M18.56 5.44l.94 2.06.94-2.06 2.06-.94-2.06-.94-.94-2.06-.94 2.06-2.06.94zm-11 1L8.5 8.5l.94-2.06 2.06-.94-2.06-.94L8.5 2.5l-.94 2.06-2.06.94zm10 10l.94 2.06.94-2.06 2.06-.94-2.06-.94-.94-2.06-.94 2.06-2.06.94z\"/><path d=\"M17.41 7.96l-1.37-1.37c-.4-.4-.92-.59-1.43-.59-.52 0-1.04.2-1.43.59L10.3 9.45l-7.72 7.72c-.78.78-.78 2.05 0 2.83L4 21.41c.39.39.9.59 1.41.59.51 0 1.02-.2 1.41-.59l7.78-7.78 2.81-2.81c.8-.78.8-2.07 0-2.86zM5.41 20L4 18.59l7.72-7.72 1.47 1.35L5.41 20z\"/>\n",
              "  </svg>\n",
              "      </button>\n",
              "      \n",
              "  <style>\n",
              "    .colab-df-container {\n",
              "      display:flex;\n",
              "      flex-wrap:wrap;\n",
              "      gap: 12px;\n",
              "    }\n",
              "\n",
              "    .colab-df-convert {\n",
              "      background-color: #E8F0FE;\n",
              "      border: none;\n",
              "      border-radius: 50%;\n",
              "      cursor: pointer;\n",
              "      display: none;\n",
              "      fill: #1967D2;\n",
              "      height: 32px;\n",
              "      padding: 0 0 0 0;\n",
              "      width: 32px;\n",
              "    }\n",
              "\n",
              "    .colab-df-convert:hover {\n",
              "      background-color: #E2EBFA;\n",
              "      box-shadow: 0px 1px 2px rgba(60, 64, 67, 0.3), 0px 1px 3px 1px rgba(60, 64, 67, 0.15);\n",
              "      fill: #174EA6;\n",
              "    }\n",
              "\n",
              "    [theme=dark] .colab-df-convert {\n",
              "      background-color: #3B4455;\n",
              "      fill: #D2E3FC;\n",
              "    }\n",
              "\n",
              "    [theme=dark] .colab-df-convert:hover {\n",
              "      background-color: #434B5C;\n",
              "      box-shadow: 0px 1px 3px 1px rgba(0, 0, 0, 0.15);\n",
              "      filter: drop-shadow(0px 1px 2px rgba(0, 0, 0, 0.3));\n",
              "      fill: #FFFFFF;\n",
              "    }\n",
              "  </style>\n",
              "\n",
              "      <script>\n",
              "        const buttonEl =\n",
              "          document.querySelector('#df-9efd8cb3-5457-475c-8909-ba3c961f5dc6 button.colab-df-convert');\n",
              "        buttonEl.style.display =\n",
              "          google.colab.kernel.accessAllowed ? 'block' : 'none';\n",
              "\n",
              "        async function convertToInteractive(key) {\n",
              "          const element = document.querySelector('#df-9efd8cb3-5457-475c-8909-ba3c961f5dc6');\n",
              "          const dataTable =\n",
              "            await google.colab.kernel.invokeFunction('convertToInteractive',\n",
              "                                                     [key], {});\n",
              "          if (!dataTable) return;\n",
              "\n",
              "          const docLinkHtml = 'Like what you see? Visit the ' +\n",
              "            '<a target=\"_blank\" href=https://colab.research.google.com/notebooks/data_table.ipynb>data table notebook</a>'\n",
              "            + ' to learn more about interactive tables.';\n",
              "          element.innerHTML = '';\n",
              "          dataTable['output_type'] = 'display_data';\n",
              "          await google.colab.output.renderOutput(dataTable, element);\n",
              "          const docLink = document.createElement('div');\n",
              "          docLink.innerHTML = docLinkHtml;\n",
              "          element.appendChild(docLink);\n",
              "        }\n",
              "      </script>\n",
              "    </div>\n",
              "  </div>\n",
              "  "
            ]
          },
          "metadata": {},
          "execution_count": 7
        }
      ]
    },
    {
      "cell_type": "code",
      "source": [
        "# features and target \n",
        "X_10p = df.drop(['albedo'], axis=1)\n",
        "y_10p = df[['albedo']]\n",
        "\n",
        "# feature preprocess remove 10p label - whole dataset\n",
        "X_10p.loc[X_10p.ME<1e-10,'ME'] = 1e-10\n",
        "X_10p.loc[X_10p.RF<1e-10,'RF'] = 1e-10\n",
        "X_10p.loc[X_10p.SF<1e-10,'SF'] = 1e-10\n",
        "X_10p.loc[X_10p.CD<1e-10,'CD'] = 1e-10\n",
        "X_10p.loc[X_10p.CM<1e-10,'CM'] = 1e-10\n",
        "X_10p.ME = np.log(X_10p.ME)\n",
        "X_10p.RF = np.log(X_10p.RF)\n",
        "X_10p.SF = np.log(X_10p.SF)\n",
        "X_10p.SF = np.log(X_10p.CD)\n",
        "X_10p.SF = np.log(X_10p.CM)"
      ],
      "metadata": {
        "id": "oI5Y0wicI3up"
      },
      "execution_count": null,
      "outputs": []
    },
    {
      "cell_type": "code",
      "source": [
        "train_size = int(df.shape[0]*0.8)\n",
        "\n",
        "X_train =X_10p.iloc[:train_size,:]\n",
        "y_train = y_10p.iloc[:train_size]\n",
        "X_test =X_10p.iloc[train_size:,:]\n",
        "y_test = y_10p.iloc[train_size:]\n"
      ],
      "metadata": {
        "id": "cGG92CB-L9Uu"
      },
      "execution_count": null,
      "outputs": []
    },
    {
      "cell_type": "code",
      "source": [
        "# standardize features\n",
        "scaler = StandardScaler()\n",
        "X_train = scaler.fit_transform(X_train)\n",
        "X_test = scaler.transform(X_test)"
      ],
      "metadata": {
        "id": "CJIHUexOOIEd"
      },
      "execution_count": null,
      "outputs": []
    },
    {
      "cell_type": "code",
      "source": [
        "minmax = MinMaxScaler()\n",
        "y_train = pd.Series(minmax.fit_transform(pd.DataFrame(y_train)).reshape(1,-1)[0])\n",
        "y_test = pd.Series(minmax.transform(pd.DataFrame(y_test)).reshape(1,-1)[0])"
      ],
      "metadata": {
        "id": "zrhjHL3cMoXV"
      },
      "execution_count": null,
      "outputs": []
    },
    {
      "cell_type": "code",
      "source": [
        "# train test splitting \n",
        "#X_train, X_test, y_train, y_test= train_test_split(X_10p, y_10p, test_size=0.2)"
      ],
      "metadata": {
        "id": "j306NpjAL9X0"
      },
      "execution_count": null,
      "outputs": []
    },
    {
      "cell_type": "code",
      "source": [
        "print('total feature training features: ', len(X_train))\n",
        "print('total feature testing features: ', len(X_test))\n",
        "print('total target training features: ', len(y_train))\n",
        "print('total target testing features: ', len(y_test))"
      ],
      "metadata": {
        "colab": {
          "base_uri": "https://localhost:8080/"
        },
        "id": "xQ6gt7OcJW_6",
        "outputId": "c80cd747-543e-4728-9840-21b49594b0dd"
      },
      "execution_count": null,
      "outputs": [
        {
          "output_type": "stream",
          "name": "stdout",
          "text": [
            "total feature training features:  1085076\n",
            "total feature testing features:  271270\n",
            "total target training features:  1085076\n",
            "total target testing features:  271270\n"
          ]
        }
      ]
    },
    {
      "cell_type": "code",
      "source": [
        "# feature importance\n",
        "'''\n",
        "train_data = lgb.Dataset(X_train, label=y_train)\n",
        "test_data = lgb.Dataset(X_test, label=y_test)\n",
        "'''"
      ],
      "metadata": {
        "colab": {
          "base_uri": "https://localhost:8080/",
          "height": 53
        },
        "id": "SEN3BhhtQhCV",
        "outputId": "0ecfbecc-17af-496d-ab7d-84e76372832f"
      },
      "execution_count": null,
      "outputs": [
        {
          "output_type": "execute_result",
          "data": {
            "text/plain": [
              "'\\ntrain_data = lgb.Dataset(X_train, label=y_train)\\ntest_data = lgb.Dataset(X_test, label=y_test)\\n'"
            ],
            "application/vnd.google.colaboratory.intrinsic+json": {
              "type": "string"
            }
          },
          "metadata": {},
          "execution_count": 13
        }
      ]
    },
    {
      "cell_type": "code",
      "source": [
        "# basic params\n",
        "'''\n",
        "params = {\n",
        "    'objective': 'regression',\n",
        "    'metric': 'auc',\n",
        "    'boosting': 'gbdt',\n",
        "    'num_leaves': 31,\n",
        "    'feature_fraction': 0.5,\n",
        "    'bagging_fraction': 0.5,\n",
        "    'bagging_freq': 20,\n",
        "    'learning_rate': 0.05,\n",
        "    'verbose': 0\n",
        "}\n",
        "'''"
      ],
      "metadata": {
        "colab": {
          "base_uri": "https://localhost:8080/",
          "height": 53
        },
        "id": "AtEhMNMKRgSK",
        "outputId": "33eb6847-b469-44d7-d8ba-20d5ae255c61"
      },
      "execution_count": null,
      "outputs": [
        {
          "output_type": "execute_result",
          "data": {
            "text/plain": [
              "\"\\nparams = {\\n    'objective': 'regression',\\n    'metric': 'auc',\\n    'boosting': 'gbdt',\\n    'num_leaves': 31,\\n    'feature_fraction': 0.5,\\n    'bagging_fraction': 0.5,\\n    'bagging_freq': 20,\\n    'learning_rate': 0.05,\\n    'verbose': 0\\n}\\n\""
            ],
            "application/vnd.google.colaboratory.intrinsic+json": {
              "type": "string"
            }
          },
          "metadata": {},
          "execution_count": 43
        }
      ]
    },
    {
      "cell_type": "code",
      "source": [
        "# fit and run test\n",
        "'''\n",
        "model = lgb.train(params,\n",
        "                  train_data,\n",
        "                  valid_sets=test_data,\n",
        "                  num_boost_round=5000,\n",
        "                  early_stopping_rounds=100)\n",
        "                  '''"
      ],
      "metadata": {
        "colab": {
          "base_uri": "https://localhost:8080/",
          "height": 53
        },
        "id": "T1dLFamySRkg",
        "outputId": "6877dd0f-d9ea-4b5f-ea2f-89de2b95dd62"
      },
      "execution_count": null,
      "outputs": [
        {
          "output_type": "execute_result",
          "data": {
            "text/plain": [
              "'\\nmodel = lgb.train(params,\\n                  train_data,\\n                  valid_sets=test_data,\\n                  num_boost_round=5000,\\n                  early_stopping_rounds=100)\\n                  '"
            ],
            "application/vnd.google.colaboratory.intrinsic+json": {
              "type": "string"
            }
          },
          "metadata": {},
          "execution_count": 44
        }
      ]
    },
    {
      "cell_type": "code",
      "source": [
        "#ax = lgb.plot_importance(model, max_num_features=5, figsize=(10,6))\n",
        "#plt.show()"
      ],
      "metadata": {
        "id": "drc7CHnNSh14"
      },
      "execution_count": null,
      "outputs": []
    },
    {
      "cell_type": "code",
      "source": [
        "# most weighted features\n",
        "'''\n",
        "QQ,\n",
        "SWD,\n",
        "TT,\n",
        "LWN,\n",
        "SF\n",
        "'''"
      ],
      "metadata": {
        "colab": {
          "base_uri": "https://localhost:8080/",
          "height": 35
        },
        "id": "3CYt4YnwVISA",
        "outputId": "745bd8c9-f8fa-4146-9415-dc2dfd0bcfe3"
      },
      "execution_count": null,
      "outputs": [
        {
          "output_type": "execute_result",
          "data": {
            "text/plain": [
              "'\\nQQ,\\nSWD,\\nTT,\\nLWN,\\nSF\\n\\n'"
            ],
            "application/vnd.google.colaboratory.intrinsic+json": {
              "type": "string"
            }
          },
          "metadata": {},
          "execution_count": 46
        }
      ]
    },
    {
      "cell_type": "code",
      "source": [
        "start = time.time()\n",
        "lgb_params = {'max_depth': [-1,1,2],\n",
        "              'n_estimators': [10, 30, 100, 150, 200],\n",
        "              'learning_rate': [0.01, 0.1, 1],\n",
        "              \"gamma\": uniform()}\n",
        "        \n",
        "lgb_rscv = RandomizedSearchCV(estimator=lgb.LGBMRegressor(objective = 'regression',seed=27),\n",
        "                              param_distributions = lgb_params, cv=10,random_state=42, n_iter=10)\n",
        "\n",
        "lgb_rscv.fit(X_train, y_train)\n",
        "finish = time.time()\n",
        "\n",
        "print('Random Search fitting time: ', finish-start)\n",
        "print(\"Best paramters and score:\", lgb_rscv.best_params_,lgb_rscv.best_score_)"
      ],
      "metadata": {
        "colab": {
          "base_uri": "https://localhost:8080/"
        },
        "id": "yz3QX196JeFR",
        "outputId": "b7c515c1-b6de-4a9b-b0e3-960cf884fd78"
      },
      "execution_count": null,
      "outputs": [
        {
          "output_type": "stream",
          "name": "stdout",
          "text": [
            "Random Search fitting time:  712.8146286010742\n",
            "Best paramters and score: {'gamma': 0.15599452033620265, 'learning_rate': 1, 'max_depth': 2, 'n_estimators': 200} 0.29962650684521497\n"
          ]
        }
      ]
    },
    {
      "cell_type": "code",
      "source": [
        "# retrieve best parameters\n",
        "LGBM = LGBMRegressor(gamma = lgb_rscv.best_params_['gamma'], learning_rate = lgb_rscv.best_params_['learning_rate'],\n",
        "                     max_depth = lgb_rscv.best_params_['max_depth'], n_estimators = lgb_rscv.best_params_['n_estimators'],\n",
        "                     objective = 'regression',seed=27)\n",
        "\n",
        "LGBM.fit(X_train,y_train)"
      ],
      "metadata": {
        "colab": {
          "base_uri": "https://localhost:8080/"
        },
        "id": "5dI42meRP--9",
        "outputId": "0431861e-ae8b-42a2-ee03-cfd994d16dcb"
      },
      "execution_count": null,
      "outputs": [
        {
          "output_type": "execute_result",
          "data": {
            "text/plain": [
              "LGBMRegressor(gamma=0.15599452033620265, learning_rate=1, max_depth=2,\n",
              "              n_estimators=200, objective='regression', seed=27)"
            ]
          },
          "metadata": {},
          "execution_count": 15
        }
      ]
    },
    {
      "cell_type": "code",
      "source": [
        "ax = lgb.plot_importance(LGBM, max_num_features=16, figsize=(10,6))\n",
        "plt.show()"
      ],
      "metadata": {
        "colab": {
          "base_uri": "https://localhost:8080/",
          "height": 404
        },
        "id": "Lyv6KQDSXj9C",
        "outputId": "717b1585-d0d9-433d-8f76-73ebbb334113"
      },
      "execution_count": null,
      "outputs": [
        {
          "output_type": "display_data",
          "data": {
            "text/plain": [
              "<Figure size 720x432 with 1 Axes>"
            ],
            "image/png": "[encoded data removed]"
          },
          "metadata": {
            "needs_background": "light"
          }
        }
      ]
    },
    {
      "cell_type": "code",
      "source": [
        "feats = {} # a dict to hold feature_name: feature_importance\n",
        "for feature, importance in zip(df.columns, LGBM.feature_importances_):\n",
        "    feats[feature] = importance #add the name/value pair \n",
        "\n",
        "importances = pd.DataFrame.from_dict(feats, orient='index').rename(columns={0: 'Gini-importance'})\n",
        "importances.sort_values(by='Gini-importance').plot(kind='bar', rot=45).set_title('LightGBM Feature Importance')"
      ],
      "metadata": {
        "colab": {
          "base_uri": "https://localhost:8080/",
          "height": 313
        },
        "id": "xArnjfFsZ6yM",
        "outputId": "357c5cf8-ace7-4adf-b4bc-f323a1019a19"
      },
      "execution_count": null,
      "outputs": [
        {
          "output_type": "execute_result",
          "data": {
            "text/plain": [
              "Text(0.5, 1.0, 'LightGBM Feature Importance')"
            ]
          },
          "metadata": {},
          "execution_count": 17
        },
        {
          "output_type": "display_data",
          "data": {
            "text/plain": [
              "<Figure size 432x288 with 1 Axes>"
            ],
            "image/png": "[encoded data removed]"
          },
          "metadata": {
            "needs_background": "light"
          }
        }
      ]
    },
    {
      "cell_type": "code",
      "source": [
        "# predictions\n",
        "lgb_y_train_pred = LGBM.predict(X_train)\n",
        "lgb_y_test_pred = LGBM.predict(X_test)\n",
        "\n",
        "print('lgb r-sq',LGBM.score(X_train,y_train))\n",
        "print('lgb test r-sq',LGBM.score(X_test,y_test))"
      ],
      "metadata": {
        "colab": {
          "base_uri": "https://localhost:8080/"
        },
        "id": "ncTX61n6P_Bz",
        "outputId": "c0df2b11-e900-49a9-d5ca-940243c9561d"
      },
      "execution_count": null,
      "outputs": [
        {
          "output_type": "stream",
          "name": "stdout",
          "text": [
            "lgb r-sq 0.3258226795116117\n",
            "lgb test r-sq 0.2838549188706231\n"
          ]
        }
      ]
    }
  ]
}